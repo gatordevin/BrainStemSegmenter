{
 "cells": [
  {
   "cell_type": "code",
   "execution_count": 1,
   "metadata": {},
   "outputs": [
    {
     "name": "stderr",
     "output_type": "stream",
     "text": [
      "Using 16bit native Automatic Mixed Precision (AMP)\n",
      "GPU available: True (cuda), used: True\n",
      "TPU available: False, using: 0 TPU cores\n",
      "IPU available: False, using: 0 IPUs\n",
      "HPU available: False, using: 0 HPUs\n"
     ]
    }
   ],
   "source": [
    "from Datasets import CountceptionPickleDataset, CountceptionRawDataset\n",
    "from matplotlib import pyplot as plt\n",
    "from Models import CountCeptionModel\n",
    "from notebookTrain import *\n",
    "\n",
    "model = CountCeptionModel()\n",
    "model = model.load_from_checkpoint(\"C:/Users/gator/FullerLab/BrainStemSegmenter/lightning_logs/version_35/checkpoints/epoch=999-step=10000.ckpt\")\n",
    "# model.eval()\n",
    "model = model.to(torch.device(\"cpu\"))"
   ]
  },
  {
   "cell_type": "code",
   "execution_count": 1,
   "metadata": {},
   "outputs": [
    {
     "ename": "NameError",
     "evalue": "name 'imread' is not defined",
     "output_type": "error",
     "traceback": [
      "\u001b[1;31m---------------------------------------------------------------------------\u001b[0m",
      "\u001b[1;31mNameError\u001b[0m                                 Traceback (most recent call last)",
      "Cell \u001b[1;32mIn [1], line 4\u001b[0m\n\u001b[0;32m      2\u001b[0m image_path \u001b[39m=\u001b[39m \u001b[39m\"\u001b[39m\u001b[39mC:/Users/gator/OneDrive - University of Florida/10x images for quantification/Manual Counts copy/TO TEST CODE/2sBc1r1 PM 3C.tif\u001b[39m\u001b[39m\"\u001b[39m\n\u001b[0;32m      3\u001b[0m mask_path \u001b[39m=\u001b[39m \u001b[39m\"\u001b[39m\u001b[39mC:/Users/gator/OneDrive - University of Florida/10x images for quantification/Manual Counts copy/TO TEST CODE/2sBc1r1 PM 3C Mask.png\u001b[39m\u001b[39m\"\u001b[39m\n\u001b[1;32m----> 4\u001b[0m image \u001b[39m=\u001b[39m imread(image_path)\n\u001b[0;32m      5\u001b[0m mask \u001b[39m=\u001b[39m imread(mask_path)\n\u001b[0;32m      6\u001b[0m tensor_img \u001b[39m=\u001b[39m [transforms\u001b[39m.\u001b[39mToTensor()(image)]\n",
      "\u001b[1;31mNameError\u001b[0m: name 'imread' is not defined"
     ]
    }
   ],
   "source": [
    "from roifile import ImagejRoi\n",
    "image_folder = \"C:/Users/gator/OneDrive - University of Florida/10x images for quantification/Manual Counts copy/TO TEST CODE/\"\n",
    "files = []\n",
    "for file_name in os.listdir(image_folder):\n",
    "    if(\".roi\" in file_name):\n",
    "        roi_file_path = image_folder + file_name\n",
    "        image_path = image_folder + file_name.replace(\"NEUN.roi\", \"3C.tiff\")\n",
    "        mask_path = image_folder + file_name.replace(\"NEUN.roi\", \"3C Mask.png\")\n",
    "        files.append([image_path, mask_path, roi_file_path])\n",
    "\n",
    "image_data = []\n",
    "for file in files:\n",
    "    image = imread(file[0])\n",
    "    # image = image[:,:,1] #Make image only NEUN\n",
    "    tensor_img = torch.stack([transforms.ToTensor()(image)])\n",
    "\n",
    "    tensor_pred = model.forward(tensor_img)\n",
    "    pred = tensor_pred[0].detach().permute(1,2,0)\n",
    "\n",
    "    mask = imread(file[1])\n",
    "    coords = ImagejRoi.fromfile(file[2]).coordinates()\n",
    "    image_data.append([image, mask, pred, coords, file[0].split(\"/\")[-1].split(\".\")[0]])"
   ]
  },
  {
   "cell_type": "code",
   "execution_count": 1,
   "metadata": {},
   "outputs": [
    {
     "ename": "NameError",
     "evalue": "name 'image_data' is not defined",
     "output_type": "error",
     "traceback": [
      "\u001b[1;31m---------------------------------------------------------------------------\u001b[0m",
      "\u001b[1;31mNameError\u001b[0m                                 Traceback (most recent call last)",
      "Cell \u001b[1;32mIn [1], line 7\u001b[0m\n\u001b[0;32m      4\u001b[0m pred_alpha \u001b[39m=\u001b[39m \u001b[39m0.1\u001b[39m\n\u001b[0;32m      5\u001b[0m save_dpi \u001b[39m=\u001b[39m \u001b[39m600\u001b[39m\n\u001b[1;32m----> 7\u001b[0m \u001b[39mfor\u001b[39;00m data \u001b[39min\u001b[39;00m image_data:\n\u001b[0;32m      8\u001b[0m     plt\u001b[39m.\u001b[39mcla()\n\u001b[0;32m     10\u001b[0m     \u001b[39mfor\u001b[39;00m coord \u001b[39min\u001b[39;00m data[\u001b[39m3\u001b[39m]:\n",
      "\u001b[1;31mNameError\u001b[0m: name 'image_data' is not defined"
     ]
    }
   ],
   "source": [
    "patch_size=32\n",
    "truth_alpha = 0.2\n",
    "truth_color = \"blue\"\n",
    "pred_alpha = 0.1\n",
    "save_dpi = 600\n",
    "\n",
    "for data in image_data:\n",
    "    plt.cla()\n",
    "\n",
    "    for coord in data[3]:\n",
    "        circle = plt.Circle((coord[0]+int(patch_size/2), coord[1]+int(patch_size/2)), 10 ,alpha=truth_alpha, fill = True , color=truth_color, linewidth=0)\n",
    "        plt.gca().add_artist(circle)\n",
    "\n",
    "    NEUN_image = np.pad(data[0][:,:,1]*3,int(patch_size/2), \"constant\")\n",
    "\n",
    "    padded_mask = np.pad(data[1][:,:],int(patch_size/2), \"constant\", constant_values=(0))\n",
    "    pred_masked = data[2] * np.dstack([padded_mask/255])\n",
    "\n",
    "    plt.imshow(np.dstack([NEUN_image,NEUN_image,NEUN_image]))\n",
    "    plt.imshow(np.dstack([np.zeros(pred_masked),pred_masked,np.zeros(pred_masked)]),alpha=pred_alpha)\n",
    "\n",
    "    ef = ((patch_size / 1) ** 2.0)\n",
    "    pred_count = (pred_masked / ef).sum(axis=(0, 1)).numpy()[0]\n",
    "    plt.savefig(data[4]+\"_model_output_act_\" + str(len(data[3])) + \"_pred_\" + str(pred_count) + \".png\", dpi=save_dpi)\n",
    "    plt.show()\n"
   ]
  },
  {
   "cell_type": "code",
   "execution_count": 55,
   "metadata": {},
   "outputs": [
    {
     "name": "stdout",
     "output_type": "stream",
     "text": [
      "tensor([182.0380], dtype=torch.float64)\n"
     ]
    }
   ],
   "source": [
    "offset = 100\n",
    "patch_size = 32\n",
    "ef = ((patch_size / 1) ** 2.0)\n",
    "pred_count = (pred_masked / ef).sum(axis=(0, 1))\n",
    "print(pred_count)"
   ]
  }
 ],
 "metadata": {
  "kernelspec": {
   "display_name": "Python 3.9.13 64-bit (microsoft store)",
   "language": "python",
   "name": "python3"
  },
  "language_info": {
   "codemirror_mode": {
    "name": "ipython",
    "version": 3
   },
   "file_extension": ".py",
   "mimetype": "text/x-python",
   "name": "python",
   "nbconvert_exporter": "python",
   "pygments_lexer": "ipython3",
   "version": "3.9.13"
  },
  "orig_nbformat": 4,
  "vscode": {
   "interpreter": {
    "hash": "16c216d9da50f879935dddc48d795a503e5b37e1fdd9e259d1950a2cda057a85"
   }
  }
 },
 "nbformat": 4,
 "nbformat_minor": 2
}
